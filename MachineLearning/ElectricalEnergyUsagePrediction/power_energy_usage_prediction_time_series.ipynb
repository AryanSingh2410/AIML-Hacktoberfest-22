{
  "cells": [
    {
      "cell_type": "markdown",
      "metadata": {
        "id": "Gp6bokbr9wAD"
      },
      "source": [
        "# Machine Learning in Time Series Analysis for Power Energy Usage Prediction\n",
        "Name : Muhammad Anandha Fritama | Email : anandha.fritama@gmail.com"
      ]
    },
    {
      "cell_type": "markdown",
      "metadata": {
        "id": "EbgGjkh5-y9_"
      },
      "source": [
        "## Machine Learning Workflow\n",
        "1. Setup Library\n",
        "2. Setup Datasets\n",
        "3. Setup Directory & Plotting Data\n",
        "4. Pre-Processing\n",
        "5. Creating Machine Learning Architecture\n",
        "6. Compile & Training\n",
        "7. Ploting\n",
        "8. Testing & Prediction & Evaluation"
      ]
    },
    {
      "cell_type": "markdown",
      "metadata": {
        "id": "BEfWkS0gAIe5"
      },
      "source": [
        "### Setup Library"
      ]
    },
    {
      "cell_type": "code",
      "execution_count": 3,
      "metadata": {
        "id": "rjjlJZfKBB42"
      },
      "outputs": [],
      "source": [
        "import numpy as nmp\n",
        "import pandas as pds\n",
        "from keras.layers import Dense, LSTM\n",
        "from sklearn.model_selection import train_test_split\n",
        "import matplotlib.pyplot as plt\n",
        "import tensorflow as tfl\n",
        "import seaborn as sns"
      ]
    },
    {
      "cell_type": "markdown",
      "metadata": {
        "id": "H3fR2FR7APzR"
      },
      "source": [
        "### Setup Datasets"
      ]
    },
    {
      "cell_type": "code",
      "execution_count": 1,
      "metadata": {
        "colab": {
          "base_uri": "https://localhost:8080/"
        },
        "id": "bGx--9vQLEf8",
        "outputId": "3129ba83-92d2-4eff-cb12-50053ac5e6b3"
      },
      "outputs": [
        {
          "name": "stdout",
          "output_type": "stream",
          "text": [
            "Mounted at /content/gdrive/\n"
          ]
        }
      ],
      "source": [
        "from google.colab import drive\n",
        "drive.mount('/content/gdrive/')"
      ]
    },
    {
      "cell_type": "markdown",
      "metadata": {
        "id": "_4lctJyUykIE"
      },
      "source": [
        "Change gdrive path to your dataset path"
      ]
    },
    {
      "cell_type": "code",
      "execution_count": 10,
      "metadata": {
        "colab": {
          "base_uri": "https://localhost:8080/",
          "height": 866
        },
        "id": "7raUDvgETC22",
        "outputId": "4e4ea99e-8e8d-4ef6-de5a-2ff19a48ebbd"
      },
      "outputs": [
        {
          "data": {
            "text/html": [
              "\n",
              "  <div id=\"df-703cbea0-4943-4cba-9258-44732ca7cfab\">\n",
              "    <div class=\"colab-df-container\">\n",
              "      <div>\n",
              "<style scoped>\n",
              "    .dataframe tbody tr th:only-of-type {\n",
              "        vertical-align: middle;\n",
              "    }\n",
              "\n",
              "    .dataframe tbody tr th {\n",
              "        vertical-align: top;\n",
              "    }\n",
              "\n",
              "    .dataframe thead th {\n",
              "        text-align: right;\n",
              "    }\n",
              "</style>\n",
              "<table border=\"1\" class=\"dataframe\">\n",
              "  <thead>\n",
              "    <tr style=\"text-align: right;\">\n",
              "      <th></th>\n",
              "      <th>Appliances</th>\n",
              "      <th>lights</th>\n",
              "      <th>T1</th>\n",
              "      <th>RH_1</th>\n",
              "      <th>T2</th>\n",
              "      <th>RH_2</th>\n",
              "      <th>T3</th>\n",
              "      <th>RH_3</th>\n",
              "      <th>T4</th>\n",
              "      <th>RH_4</th>\n",
              "      <th>...</th>\n",
              "      <th>T9</th>\n",
              "      <th>RH_9</th>\n",
              "      <th>T_out</th>\n",
              "      <th>Press_mm_hg</th>\n",
              "      <th>RH_out</th>\n",
              "      <th>Windspeed</th>\n",
              "      <th>Visibility</th>\n",
              "      <th>Tdewpoint</th>\n",
              "      <th>rv1</th>\n",
              "      <th>rv2</th>\n",
              "    </tr>\n",
              "    <tr>\n",
              "      <th>date</th>\n",
              "      <th></th>\n",
              "      <th></th>\n",
              "      <th></th>\n",
              "      <th></th>\n",
              "      <th></th>\n",
              "      <th></th>\n",
              "      <th></th>\n",
              "      <th></th>\n",
              "      <th></th>\n",
              "      <th></th>\n",
              "      <th></th>\n",
              "      <th></th>\n",
              "      <th></th>\n",
              "      <th></th>\n",
              "      <th></th>\n",
              "      <th></th>\n",
              "      <th></th>\n",
              "      <th></th>\n",
              "      <th></th>\n",
              "      <th></th>\n",
              "      <th></th>\n",
              "    </tr>\n",
              "  </thead>\n",
              "  <tbody>\n",
              "    <tr>\n",
              "      <th>2016-01-11 17:00:00</th>\n",
              "      <td>60</td>\n",
              "      <td>30</td>\n",
              "      <td>19.890000</td>\n",
              "      <td>47.596667</td>\n",
              "      <td>19.200000</td>\n",
              "      <td>44.790000</td>\n",
              "      <td>19.790000</td>\n",
              "      <td>44.730000</td>\n",
              "      <td>19.000000</td>\n",
              "      <td>45.566667</td>\n",
              "      <td>...</td>\n",
              "      <td>17.033333</td>\n",
              "      <td>45.5300</td>\n",
              "      <td>6.600000</td>\n",
              "      <td>733.5</td>\n",
              "      <td>92.000000</td>\n",
              "      <td>7.000000</td>\n",
              "      <td>63.000000</td>\n",
              "      <td>5.300000</td>\n",
              "      <td>13.275433</td>\n",
              "      <td>13.275433</td>\n",
              "    </tr>\n",
              "    <tr>\n",
              "      <th>2016-01-11 17:10:00</th>\n",
              "      <td>60</td>\n",
              "      <td>30</td>\n",
              "      <td>19.890000</td>\n",
              "      <td>46.693333</td>\n",
              "      <td>19.200000</td>\n",
              "      <td>44.722500</td>\n",
              "      <td>19.790000</td>\n",
              "      <td>44.790000</td>\n",
              "      <td>19.000000</td>\n",
              "      <td>45.992500</td>\n",
              "      <td>...</td>\n",
              "      <td>17.066667</td>\n",
              "      <td>45.5600</td>\n",
              "      <td>6.483333</td>\n",
              "      <td>733.6</td>\n",
              "      <td>92.000000</td>\n",
              "      <td>6.666667</td>\n",
              "      <td>59.166667</td>\n",
              "      <td>5.200000</td>\n",
              "      <td>18.606195</td>\n",
              "      <td>18.606195</td>\n",
              "    </tr>\n",
              "    <tr>\n",
              "      <th>2016-01-11 17:20:00</th>\n",
              "      <td>50</td>\n",
              "      <td>30</td>\n",
              "      <td>19.890000</td>\n",
              "      <td>46.300000</td>\n",
              "      <td>19.200000</td>\n",
              "      <td>44.626667</td>\n",
              "      <td>19.790000</td>\n",
              "      <td>44.933333</td>\n",
              "      <td>18.926667</td>\n",
              "      <td>45.890000</td>\n",
              "      <td>...</td>\n",
              "      <td>17.000000</td>\n",
              "      <td>45.5000</td>\n",
              "      <td>6.366667</td>\n",
              "      <td>733.7</td>\n",
              "      <td>92.000000</td>\n",
              "      <td>6.333333</td>\n",
              "      <td>55.333333</td>\n",
              "      <td>5.100000</td>\n",
              "      <td>28.642668</td>\n",
              "      <td>28.642668</td>\n",
              "    </tr>\n",
              "    <tr>\n",
              "      <th>2016-01-11 17:30:00</th>\n",
              "      <td>50</td>\n",
              "      <td>40</td>\n",
              "      <td>19.890000</td>\n",
              "      <td>46.066667</td>\n",
              "      <td>19.200000</td>\n",
              "      <td>44.590000</td>\n",
              "      <td>19.790000</td>\n",
              "      <td>45.000000</td>\n",
              "      <td>18.890000</td>\n",
              "      <td>45.723333</td>\n",
              "      <td>...</td>\n",
              "      <td>17.000000</td>\n",
              "      <td>45.4000</td>\n",
              "      <td>6.250000</td>\n",
              "      <td>733.8</td>\n",
              "      <td>92.000000</td>\n",
              "      <td>6.000000</td>\n",
              "      <td>51.500000</td>\n",
              "      <td>5.000000</td>\n",
              "      <td>45.410389</td>\n",
              "      <td>45.410389</td>\n",
              "    </tr>\n",
              "    <tr>\n",
              "      <th>2016-01-11 17:40:00</th>\n",
              "      <td>60</td>\n",
              "      <td>40</td>\n",
              "      <td>19.890000</td>\n",
              "      <td>46.333333</td>\n",
              "      <td>19.200000</td>\n",
              "      <td>44.530000</td>\n",
              "      <td>19.790000</td>\n",
              "      <td>45.000000</td>\n",
              "      <td>18.890000</td>\n",
              "      <td>45.530000</td>\n",
              "      <td>...</td>\n",
              "      <td>17.000000</td>\n",
              "      <td>45.4000</td>\n",
              "      <td>6.133333</td>\n",
              "      <td>733.9</td>\n",
              "      <td>92.000000</td>\n",
              "      <td>5.666667</td>\n",
              "      <td>47.666667</td>\n",
              "      <td>4.900000</td>\n",
              "      <td>10.084097</td>\n",
              "      <td>10.084097</td>\n",
              "    </tr>\n",
              "    <tr>\n",
              "      <th>...</th>\n",
              "      <td>...</td>\n",
              "      <td>...</td>\n",
              "      <td>...</td>\n",
              "      <td>...</td>\n",
              "      <td>...</td>\n",
              "      <td>...</td>\n",
              "      <td>...</td>\n",
              "      <td>...</td>\n",
              "      <td>...</td>\n",
              "      <td>...</td>\n",
              "      <td>...</td>\n",
              "      <td>...</td>\n",
              "      <td>...</td>\n",
              "      <td>...</td>\n",
              "      <td>...</td>\n",
              "      <td>...</td>\n",
              "      <td>...</td>\n",
              "      <td>...</td>\n",
              "      <td>...</td>\n",
              "      <td>...</td>\n",
              "      <td>...</td>\n",
              "    </tr>\n",
              "    <tr>\n",
              "      <th>2016-05-27 17:20:00</th>\n",
              "      <td>100</td>\n",
              "      <td>0</td>\n",
              "      <td>25.566667</td>\n",
              "      <td>46.560000</td>\n",
              "      <td>25.890000</td>\n",
              "      <td>42.025714</td>\n",
              "      <td>27.200000</td>\n",
              "      <td>41.163333</td>\n",
              "      <td>24.700000</td>\n",
              "      <td>45.590000</td>\n",
              "      <td>...</td>\n",
              "      <td>23.200000</td>\n",
              "      <td>46.7900</td>\n",
              "      <td>22.733333</td>\n",
              "      <td>755.2</td>\n",
              "      <td>55.666667</td>\n",
              "      <td>3.333333</td>\n",
              "      <td>23.666667</td>\n",
              "      <td>13.333333</td>\n",
              "      <td>43.096812</td>\n",
              "      <td>43.096812</td>\n",
              "    </tr>\n",
              "    <tr>\n",
              "      <th>2016-05-27 17:30:00</th>\n",
              "      <td>90</td>\n",
              "      <td>0</td>\n",
              "      <td>25.500000</td>\n",
              "      <td>46.500000</td>\n",
              "      <td>25.754000</td>\n",
              "      <td>42.080000</td>\n",
              "      <td>27.133333</td>\n",
              "      <td>41.223333</td>\n",
              "      <td>24.700000</td>\n",
              "      <td>45.590000</td>\n",
              "      <td>...</td>\n",
              "      <td>23.200000</td>\n",
              "      <td>46.7900</td>\n",
              "      <td>22.600000</td>\n",
              "      <td>755.2</td>\n",
              "      <td>56.000000</td>\n",
              "      <td>3.500000</td>\n",
              "      <td>24.500000</td>\n",
              "      <td>13.300000</td>\n",
              "      <td>49.282940</td>\n",
              "      <td>49.282940</td>\n",
              "    </tr>\n",
              "    <tr>\n",
              "      <th>2016-05-27 17:40:00</th>\n",
              "      <td>270</td>\n",
              "      <td>10</td>\n",
              "      <td>25.500000</td>\n",
              "      <td>46.596667</td>\n",
              "      <td>25.628571</td>\n",
              "      <td>42.768571</td>\n",
              "      <td>27.050000</td>\n",
              "      <td>41.690000</td>\n",
              "      <td>24.700000</td>\n",
              "      <td>45.730000</td>\n",
              "      <td>...</td>\n",
              "      <td>23.200000</td>\n",
              "      <td>46.7900</td>\n",
              "      <td>22.466667</td>\n",
              "      <td>755.2</td>\n",
              "      <td>56.333333</td>\n",
              "      <td>3.666667</td>\n",
              "      <td>25.333333</td>\n",
              "      <td>13.266667</td>\n",
              "      <td>29.199117</td>\n",
              "      <td>29.199117</td>\n",
              "    </tr>\n",
              "    <tr>\n",
              "      <th>2016-05-27 17:50:00</th>\n",
              "      <td>420</td>\n",
              "      <td>10</td>\n",
              "      <td>25.500000</td>\n",
              "      <td>46.990000</td>\n",
              "      <td>25.414000</td>\n",
              "      <td>43.036000</td>\n",
              "      <td>26.890000</td>\n",
              "      <td>41.290000</td>\n",
              "      <td>24.700000</td>\n",
              "      <td>45.790000</td>\n",
              "      <td>...</td>\n",
              "      <td>23.200000</td>\n",
              "      <td>46.8175</td>\n",
              "      <td>22.333333</td>\n",
              "      <td>755.2</td>\n",
              "      <td>56.666667</td>\n",
              "      <td>3.833333</td>\n",
              "      <td>26.166667</td>\n",
              "      <td>13.233333</td>\n",
              "      <td>6.322784</td>\n",
              "      <td>6.322784</td>\n",
              "    </tr>\n",
              "    <tr>\n",
              "      <th>2016-05-27 18:00:00</th>\n",
              "      <td>430</td>\n",
              "      <td>10</td>\n",
              "      <td>25.500000</td>\n",
              "      <td>46.600000</td>\n",
              "      <td>25.264286</td>\n",
              "      <td>42.971429</td>\n",
              "      <td>26.823333</td>\n",
              "      <td>41.156667</td>\n",
              "      <td>24.700000</td>\n",
              "      <td>45.963333</td>\n",
              "      <td>...</td>\n",
              "      <td>23.200000</td>\n",
              "      <td>46.8450</td>\n",
              "      <td>22.200000</td>\n",
              "      <td>755.2</td>\n",
              "      <td>57.000000</td>\n",
              "      <td>4.000000</td>\n",
              "      <td>27.000000</td>\n",
              "      <td>13.200000</td>\n",
              "      <td>34.118851</td>\n",
              "      <td>34.118851</td>\n",
              "    </tr>\n",
              "  </tbody>\n",
              "</table>\n",
              "<p>19735 rows × 28 columns</p>\n",
              "</div>\n",
              "      <button class=\"colab-df-convert\" onclick=\"convertToInteractive('df-703cbea0-4943-4cba-9258-44732ca7cfab')\"\n",
              "              title=\"Convert this dataframe to an interactive table.\"\n",
              "              style=\"display:none;\">\n",
              "        \n",
              "  <svg xmlns=\"http://www.w3.org/2000/svg\" height=\"24px\"viewBox=\"0 0 24 24\"\n",
              "       width=\"24px\">\n",
              "    <path d=\"M0 0h24v24H0V0z\" fill=\"none\"/>\n",
              "    <path d=\"M18.56 5.44l.94 2.06.94-2.06 2.06-.94-2.06-.94-.94-2.06-.94 2.06-2.06.94zm-11 1L8.5 8.5l.94-2.06 2.06-.94-2.06-.94L8.5 2.5l-.94 2.06-2.06.94zm10 10l.94 2.06.94-2.06 2.06-.94-2.06-.94-.94-2.06-.94 2.06-2.06.94z\"/><path d=\"M17.41 7.96l-1.37-1.37c-.4-.4-.92-.59-1.43-.59-.52 0-1.04.2-1.43.59L10.3 9.45l-7.72 7.72c-.78.78-.78 2.05 0 2.83L4 21.41c.39.39.9.59 1.41.59.51 0 1.02-.2 1.41-.59l7.78-7.78 2.81-2.81c.8-.78.8-2.07 0-2.86zM5.41 20L4 18.59l7.72-7.72 1.47 1.35L5.41 20z\"/>\n",
              "  </svg>\n",
              "      </button>\n",
              "      \n",
              "  <style>\n",
              "    .colab-df-container {\n",
              "      display:flex;\n",
              "      flex-wrap:wrap;\n",
              "      gap: 12px;\n",
              "    }\n",
              "\n",
              "    .colab-df-convert {\n",
              "      background-color: #E8F0FE;\n",
              "      border: none;\n",
              "      border-radius: 50%;\n",
              "      cursor: pointer;\n",
              "      display: none;\n",
              "      fill: #1967D2;\n",
              "      height: 32px;\n",
              "      padding: 0 0 0 0;\n",
              "      width: 32px;\n",
              "    }\n",
              "\n",
              "    .colab-df-convert:hover {\n",
              "      background-color: #E2EBFA;\n",
              "      box-shadow: 0px 1px 2px rgba(60, 64, 67, 0.3), 0px 1px 3px 1px rgba(60, 64, 67, 0.15);\n",
              "      fill: #174EA6;\n",
              "    }\n",
              "\n",
              "    [theme=dark] .colab-df-convert {\n",
              "      background-color: #3B4455;\n",
              "      fill: #D2E3FC;\n",
              "    }\n",
              "\n",
              "    [theme=dark] .colab-df-convert:hover {\n",
              "      background-color: #434B5C;\n",
              "      box-shadow: 0px 1px 3px 1px rgba(0, 0, 0, 0.15);\n",
              "      filter: drop-shadow(0px 1px 2px rgba(0, 0, 0, 0.3));\n",
              "      fill: #FFFFFF;\n",
              "    }\n",
              "  </style>\n",
              "\n",
              "      <script>\n",
              "        const buttonEl =\n",
              "          document.querySelector('#df-703cbea0-4943-4cba-9258-44732ca7cfab button.colab-df-convert');\n",
              "        buttonEl.style.display =\n",
              "          google.colab.kernel.accessAllowed ? 'block' : 'none';\n",
              "\n",
              "        async function convertToInteractive(key) {\n",
              "          const element = document.querySelector('#df-703cbea0-4943-4cba-9258-44732ca7cfab');\n",
              "          const dataTable =\n",
              "            await google.colab.kernel.invokeFunction('convertToInteractive',\n",
              "                                                     [key], {});\n",
              "          if (!dataTable) return;\n",
              "\n",
              "          const docLinkHtml = 'Like what you see? Visit the ' +\n",
              "            '<a target=\"_blank\" href=https://colab.research.google.com/notebooks/data_table.ipynb>data table notebook</a>'\n",
              "            + ' to learn more about interactive tables.';\n",
              "          element.innerHTML = '';\n",
              "          dataTable['output_type'] = 'display_data';\n",
              "          await google.colab.output.renderOutput(dataTable, element);\n",
              "          const docLink = document.createElement('div');\n",
              "          docLink.innerHTML = docLinkHtml;\n",
              "          element.appendChild(docLink);\n",
              "        }\n",
              "      </script>\n",
              "    </div>\n",
              "  </div>\n",
              "  "
            ],
            "text/plain": [
              "                     Appliances  lights         T1       RH_1         T2  \\\n",
              "date                                                                       \n",
              "2016-01-11 17:00:00          60      30  19.890000  47.596667  19.200000   \n",
              "2016-01-11 17:10:00          60      30  19.890000  46.693333  19.200000   \n",
              "2016-01-11 17:20:00          50      30  19.890000  46.300000  19.200000   \n",
              "2016-01-11 17:30:00          50      40  19.890000  46.066667  19.200000   \n",
              "2016-01-11 17:40:00          60      40  19.890000  46.333333  19.200000   \n",
              "...                         ...     ...        ...        ...        ...   \n",
              "2016-05-27 17:20:00         100       0  25.566667  46.560000  25.890000   \n",
              "2016-05-27 17:30:00          90       0  25.500000  46.500000  25.754000   \n",
              "2016-05-27 17:40:00         270      10  25.500000  46.596667  25.628571   \n",
              "2016-05-27 17:50:00         420      10  25.500000  46.990000  25.414000   \n",
              "2016-05-27 18:00:00         430      10  25.500000  46.600000  25.264286   \n",
              "\n",
              "                          RH_2         T3       RH_3         T4       RH_4  \\\n",
              "date                                                                         \n",
              "2016-01-11 17:00:00  44.790000  19.790000  44.730000  19.000000  45.566667   \n",
              "2016-01-11 17:10:00  44.722500  19.790000  44.790000  19.000000  45.992500   \n",
              "2016-01-11 17:20:00  44.626667  19.790000  44.933333  18.926667  45.890000   \n",
              "2016-01-11 17:30:00  44.590000  19.790000  45.000000  18.890000  45.723333   \n",
              "2016-01-11 17:40:00  44.530000  19.790000  45.000000  18.890000  45.530000   \n",
              "...                        ...        ...        ...        ...        ...   \n",
              "2016-05-27 17:20:00  42.025714  27.200000  41.163333  24.700000  45.590000   \n",
              "2016-05-27 17:30:00  42.080000  27.133333  41.223333  24.700000  45.590000   \n",
              "2016-05-27 17:40:00  42.768571  27.050000  41.690000  24.700000  45.730000   \n",
              "2016-05-27 17:50:00  43.036000  26.890000  41.290000  24.700000  45.790000   \n",
              "2016-05-27 18:00:00  42.971429  26.823333  41.156667  24.700000  45.963333   \n",
              "\n",
              "                     ...         T9     RH_9      T_out  Press_mm_hg  \\\n",
              "date                 ...                                               \n",
              "2016-01-11 17:00:00  ...  17.033333  45.5300   6.600000        733.5   \n",
              "2016-01-11 17:10:00  ...  17.066667  45.5600   6.483333        733.6   \n",
              "2016-01-11 17:20:00  ...  17.000000  45.5000   6.366667        733.7   \n",
              "2016-01-11 17:30:00  ...  17.000000  45.4000   6.250000        733.8   \n",
              "2016-01-11 17:40:00  ...  17.000000  45.4000   6.133333        733.9   \n",
              "...                  ...        ...      ...        ...          ...   \n",
              "2016-05-27 17:20:00  ...  23.200000  46.7900  22.733333        755.2   \n",
              "2016-05-27 17:30:00  ...  23.200000  46.7900  22.600000        755.2   \n",
              "2016-05-27 17:40:00  ...  23.200000  46.7900  22.466667        755.2   \n",
              "2016-05-27 17:50:00  ...  23.200000  46.8175  22.333333        755.2   \n",
              "2016-05-27 18:00:00  ...  23.200000  46.8450  22.200000        755.2   \n",
              "\n",
              "                        RH_out  Windspeed  Visibility  Tdewpoint        rv1  \\\n",
              "date                                                                          \n",
              "2016-01-11 17:00:00  92.000000   7.000000   63.000000   5.300000  13.275433   \n",
              "2016-01-11 17:10:00  92.000000   6.666667   59.166667   5.200000  18.606195   \n",
              "2016-01-11 17:20:00  92.000000   6.333333   55.333333   5.100000  28.642668   \n",
              "2016-01-11 17:30:00  92.000000   6.000000   51.500000   5.000000  45.410389   \n",
              "2016-01-11 17:40:00  92.000000   5.666667   47.666667   4.900000  10.084097   \n",
              "...                        ...        ...         ...        ...        ...   \n",
              "2016-05-27 17:20:00  55.666667   3.333333   23.666667  13.333333  43.096812   \n",
              "2016-05-27 17:30:00  56.000000   3.500000   24.500000  13.300000  49.282940   \n",
              "2016-05-27 17:40:00  56.333333   3.666667   25.333333  13.266667  29.199117   \n",
              "2016-05-27 17:50:00  56.666667   3.833333   26.166667  13.233333   6.322784   \n",
              "2016-05-27 18:00:00  57.000000   4.000000   27.000000  13.200000  34.118851   \n",
              "\n",
              "                           rv2  \n",
              "date                            \n",
              "2016-01-11 17:00:00  13.275433  \n",
              "2016-01-11 17:10:00  18.606195  \n",
              "2016-01-11 17:20:00  28.642668  \n",
              "2016-01-11 17:30:00  45.410389  \n",
              "2016-01-11 17:40:00  10.084097  \n",
              "...                        ...  \n",
              "2016-05-27 17:20:00  43.096812  \n",
              "2016-05-27 17:30:00  49.282940  \n",
              "2016-05-27 17:40:00  29.199117  \n",
              "2016-05-27 17:50:00   6.322784  \n",
              "2016-05-27 18:00:00  34.118851  \n",
              "\n",
              "[19735 rows x 28 columns]"
            ]
          },
          "execution_count": 10,
          "metadata": {},
          "output_type": "execute_result"
        }
      ],
      "source": [
        "data_latih = pds.read_csv('/content/gdrive/MyDrive/Dataset_Time_Series/energydata_complete.csv', parse_dates=['date'], index_col='date')\n",
        "data_latih"
      ]
    },
    {
      "cell_type": "code",
      "execution_count": 11,
      "metadata": {
        "colab": {
          "base_uri": "https://localhost:8080/",
          "height": 866
        },
        "id": "UF02zS-8VC-z",
        "outputId": "340b83ed-1fd8-4143-ab25-64f18ecdc0d0"
      },
      "outputs": [
        {
          "data": {
            "text/html": [
              "\n",
              "  <div id=\"df-ab7b7408-3298-4a12-90ef-ba365770dc2a\">\n",
              "    <div class=\"colab-df-container\">\n",
              "      <div>\n",
              "<style scoped>\n",
              "    .dataframe tbody tr th:only-of-type {\n",
              "        vertical-align: middle;\n",
              "    }\n",
              "\n",
              "    .dataframe tbody tr th {\n",
              "        vertical-align: top;\n",
              "    }\n",
              "\n",
              "    .dataframe thead th {\n",
              "        text-align: right;\n",
              "    }\n",
              "</style>\n",
              "<table border=\"1\" class=\"dataframe\">\n",
              "  <thead>\n",
              "    <tr style=\"text-align: right;\">\n",
              "      <th></th>\n",
              "      <th>Appliances</th>\n",
              "      <th>lights</th>\n",
              "      <th>T1</th>\n",
              "      <th>RH_1</th>\n",
              "      <th>T2</th>\n",
              "      <th>RH_2</th>\n",
              "      <th>T3</th>\n",
              "      <th>RH_3</th>\n",
              "      <th>T4</th>\n",
              "      <th>RH_4</th>\n",
              "      <th>...</th>\n",
              "      <th>Windspeed</th>\n",
              "      <th>Visibility</th>\n",
              "      <th>Tdewpoint</th>\n",
              "      <th>rv1</th>\n",
              "      <th>rv2</th>\n",
              "      <th>minute</th>\n",
              "      <th>hour</th>\n",
              "      <th>day_of_week</th>\n",
              "      <th>day_of_month</th>\n",
              "      <th>month</th>\n",
              "    </tr>\n",
              "    <tr>\n",
              "      <th>date</th>\n",
              "      <th></th>\n",
              "      <th></th>\n",
              "      <th></th>\n",
              "      <th></th>\n",
              "      <th></th>\n",
              "      <th></th>\n",
              "      <th></th>\n",
              "      <th></th>\n",
              "      <th></th>\n",
              "      <th></th>\n",
              "      <th></th>\n",
              "      <th></th>\n",
              "      <th></th>\n",
              "      <th></th>\n",
              "      <th></th>\n",
              "      <th></th>\n",
              "      <th></th>\n",
              "      <th></th>\n",
              "      <th></th>\n",
              "      <th></th>\n",
              "      <th></th>\n",
              "    </tr>\n",
              "  </thead>\n",
              "  <tbody>\n",
              "    <tr>\n",
              "      <th>2016-01-11 17:00:00</th>\n",
              "      <td>60</td>\n",
              "      <td>30</td>\n",
              "      <td>19.890000</td>\n",
              "      <td>47.596667</td>\n",
              "      <td>19.200000</td>\n",
              "      <td>44.790000</td>\n",
              "      <td>19.790000</td>\n",
              "      <td>44.730000</td>\n",
              "      <td>19.000000</td>\n",
              "      <td>45.566667</td>\n",
              "      <td>...</td>\n",
              "      <td>7.000000</td>\n",
              "      <td>63.000000</td>\n",
              "      <td>5.300000</td>\n",
              "      <td>13.275433</td>\n",
              "      <td>13.275433</td>\n",
              "      <td>0</td>\n",
              "      <td>17</td>\n",
              "      <td>0</td>\n",
              "      <td>11</td>\n",
              "      <td>1</td>\n",
              "    </tr>\n",
              "    <tr>\n",
              "      <th>2016-01-11 17:10:00</th>\n",
              "      <td>60</td>\n",
              "      <td>30</td>\n",
              "      <td>19.890000</td>\n",
              "      <td>46.693333</td>\n",
              "      <td>19.200000</td>\n",
              "      <td>44.722500</td>\n",
              "      <td>19.790000</td>\n",
              "      <td>44.790000</td>\n",
              "      <td>19.000000</td>\n",
              "      <td>45.992500</td>\n",
              "      <td>...</td>\n",
              "      <td>6.666667</td>\n",
              "      <td>59.166667</td>\n",
              "      <td>5.200000</td>\n",
              "      <td>18.606195</td>\n",
              "      <td>18.606195</td>\n",
              "      <td>10</td>\n",
              "      <td>17</td>\n",
              "      <td>0</td>\n",
              "      <td>11</td>\n",
              "      <td>1</td>\n",
              "    </tr>\n",
              "    <tr>\n",
              "      <th>2016-01-11 17:20:00</th>\n",
              "      <td>50</td>\n",
              "      <td>30</td>\n",
              "      <td>19.890000</td>\n",
              "      <td>46.300000</td>\n",
              "      <td>19.200000</td>\n",
              "      <td>44.626667</td>\n",
              "      <td>19.790000</td>\n",
              "      <td>44.933333</td>\n",
              "      <td>18.926667</td>\n",
              "      <td>45.890000</td>\n",
              "      <td>...</td>\n",
              "      <td>6.333333</td>\n",
              "      <td>55.333333</td>\n",
              "      <td>5.100000</td>\n",
              "      <td>28.642668</td>\n",
              "      <td>28.642668</td>\n",
              "      <td>20</td>\n",
              "      <td>17</td>\n",
              "      <td>0</td>\n",
              "      <td>11</td>\n",
              "      <td>1</td>\n",
              "    </tr>\n",
              "    <tr>\n",
              "      <th>2016-01-11 17:30:00</th>\n",
              "      <td>50</td>\n",
              "      <td>40</td>\n",
              "      <td>19.890000</td>\n",
              "      <td>46.066667</td>\n",
              "      <td>19.200000</td>\n",
              "      <td>44.590000</td>\n",
              "      <td>19.790000</td>\n",
              "      <td>45.000000</td>\n",
              "      <td>18.890000</td>\n",
              "      <td>45.723333</td>\n",
              "      <td>...</td>\n",
              "      <td>6.000000</td>\n",
              "      <td>51.500000</td>\n",
              "      <td>5.000000</td>\n",
              "      <td>45.410389</td>\n",
              "      <td>45.410389</td>\n",
              "      <td>30</td>\n",
              "      <td>17</td>\n",
              "      <td>0</td>\n",
              "      <td>11</td>\n",
              "      <td>1</td>\n",
              "    </tr>\n",
              "    <tr>\n",
              "      <th>2016-01-11 17:40:00</th>\n",
              "      <td>60</td>\n",
              "      <td>40</td>\n",
              "      <td>19.890000</td>\n",
              "      <td>46.333333</td>\n",
              "      <td>19.200000</td>\n",
              "      <td>44.530000</td>\n",
              "      <td>19.790000</td>\n",
              "      <td>45.000000</td>\n",
              "      <td>18.890000</td>\n",
              "      <td>45.530000</td>\n",
              "      <td>...</td>\n",
              "      <td>5.666667</td>\n",
              "      <td>47.666667</td>\n",
              "      <td>4.900000</td>\n",
              "      <td>10.084097</td>\n",
              "      <td>10.084097</td>\n",
              "      <td>40</td>\n",
              "      <td>17</td>\n",
              "      <td>0</td>\n",
              "      <td>11</td>\n",
              "      <td>1</td>\n",
              "    </tr>\n",
              "    <tr>\n",
              "      <th>...</th>\n",
              "      <td>...</td>\n",
              "      <td>...</td>\n",
              "      <td>...</td>\n",
              "      <td>...</td>\n",
              "      <td>...</td>\n",
              "      <td>...</td>\n",
              "      <td>...</td>\n",
              "      <td>...</td>\n",
              "      <td>...</td>\n",
              "      <td>...</td>\n",
              "      <td>...</td>\n",
              "      <td>...</td>\n",
              "      <td>...</td>\n",
              "      <td>...</td>\n",
              "      <td>...</td>\n",
              "      <td>...</td>\n",
              "      <td>...</td>\n",
              "      <td>...</td>\n",
              "      <td>...</td>\n",
              "      <td>...</td>\n",
              "      <td>...</td>\n",
              "    </tr>\n",
              "    <tr>\n",
              "      <th>2016-05-27 17:20:00</th>\n",
              "      <td>100</td>\n",
              "      <td>0</td>\n",
              "      <td>25.566667</td>\n",
              "      <td>46.560000</td>\n",
              "      <td>25.890000</td>\n",
              "      <td>42.025714</td>\n",
              "      <td>27.200000</td>\n",
              "      <td>41.163333</td>\n",
              "      <td>24.700000</td>\n",
              "      <td>45.590000</td>\n",
              "      <td>...</td>\n",
              "      <td>3.333333</td>\n",
              "      <td>23.666667</td>\n",
              "      <td>13.333333</td>\n",
              "      <td>43.096812</td>\n",
              "      <td>43.096812</td>\n",
              "      <td>20</td>\n",
              "      <td>17</td>\n",
              "      <td>4</td>\n",
              "      <td>27</td>\n",
              "      <td>5</td>\n",
              "    </tr>\n",
              "    <tr>\n",
              "      <th>2016-05-27 17:30:00</th>\n",
              "      <td>90</td>\n",
              "      <td>0</td>\n",
              "      <td>25.500000</td>\n",
              "      <td>46.500000</td>\n",
              "      <td>25.754000</td>\n",
              "      <td>42.080000</td>\n",
              "      <td>27.133333</td>\n",
              "      <td>41.223333</td>\n",
              "      <td>24.700000</td>\n",
              "      <td>45.590000</td>\n",
              "      <td>...</td>\n",
              "      <td>3.500000</td>\n",
              "      <td>24.500000</td>\n",
              "      <td>13.300000</td>\n",
              "      <td>49.282940</td>\n",
              "      <td>49.282940</td>\n",
              "      <td>30</td>\n",
              "      <td>17</td>\n",
              "      <td>4</td>\n",
              "      <td>27</td>\n",
              "      <td>5</td>\n",
              "    </tr>\n",
              "    <tr>\n",
              "      <th>2016-05-27 17:40:00</th>\n",
              "      <td>270</td>\n",
              "      <td>10</td>\n",
              "      <td>25.500000</td>\n",
              "      <td>46.596667</td>\n",
              "      <td>25.628571</td>\n",
              "      <td>42.768571</td>\n",
              "      <td>27.050000</td>\n",
              "      <td>41.690000</td>\n",
              "      <td>24.700000</td>\n",
              "      <td>45.730000</td>\n",
              "      <td>...</td>\n",
              "      <td>3.666667</td>\n",
              "      <td>25.333333</td>\n",
              "      <td>13.266667</td>\n",
              "      <td>29.199117</td>\n",
              "      <td>29.199117</td>\n",
              "      <td>40</td>\n",
              "      <td>17</td>\n",
              "      <td>4</td>\n",
              "      <td>27</td>\n",
              "      <td>5</td>\n",
              "    </tr>\n",
              "    <tr>\n",
              "      <th>2016-05-27 17:50:00</th>\n",
              "      <td>420</td>\n",
              "      <td>10</td>\n",
              "      <td>25.500000</td>\n",
              "      <td>46.990000</td>\n",
              "      <td>25.414000</td>\n",
              "      <td>43.036000</td>\n",
              "      <td>26.890000</td>\n",
              "      <td>41.290000</td>\n",
              "      <td>24.700000</td>\n",
              "      <td>45.790000</td>\n",
              "      <td>...</td>\n",
              "      <td>3.833333</td>\n",
              "      <td>26.166667</td>\n",
              "      <td>13.233333</td>\n",
              "      <td>6.322784</td>\n",
              "      <td>6.322784</td>\n",
              "      <td>50</td>\n",
              "      <td>17</td>\n",
              "      <td>4</td>\n",
              "      <td>27</td>\n",
              "      <td>5</td>\n",
              "    </tr>\n",
              "    <tr>\n",
              "      <th>2016-05-27 18:00:00</th>\n",
              "      <td>430</td>\n",
              "      <td>10</td>\n",
              "      <td>25.500000</td>\n",
              "      <td>46.600000</td>\n",
              "      <td>25.264286</td>\n",
              "      <td>42.971429</td>\n",
              "      <td>26.823333</td>\n",
              "      <td>41.156667</td>\n",
              "      <td>24.700000</td>\n",
              "      <td>45.963333</td>\n",
              "      <td>...</td>\n",
              "      <td>4.000000</td>\n",
              "      <td>27.000000</td>\n",
              "      <td>13.200000</td>\n",
              "      <td>34.118851</td>\n",
              "      <td>34.118851</td>\n",
              "      <td>0</td>\n",
              "      <td>18</td>\n",
              "      <td>4</td>\n",
              "      <td>27</td>\n",
              "      <td>5</td>\n",
              "    </tr>\n",
              "  </tbody>\n",
              "</table>\n",
              "<p>19735 rows × 33 columns</p>\n",
              "</div>\n",
              "      <button class=\"colab-df-convert\" onclick=\"convertToInteractive('df-ab7b7408-3298-4a12-90ef-ba365770dc2a')\"\n",
              "              title=\"Convert this dataframe to an interactive table.\"\n",
              "              style=\"display:none;\">\n",
              "        \n",
              "  <svg xmlns=\"http://www.w3.org/2000/svg\" height=\"24px\"viewBox=\"0 0 24 24\"\n",
              "       width=\"24px\">\n",
              "    <path d=\"M0 0h24v24H0V0z\" fill=\"none\"/>\n",
              "    <path d=\"M18.56 5.44l.94 2.06.94-2.06 2.06-.94-2.06-.94-.94-2.06-.94 2.06-2.06.94zm-11 1L8.5 8.5l.94-2.06 2.06-.94-2.06-.94L8.5 2.5l-.94 2.06-2.06.94zm10 10l.94 2.06.94-2.06 2.06-.94-2.06-.94-.94-2.06-.94 2.06-2.06.94z\"/><path d=\"M17.41 7.96l-1.37-1.37c-.4-.4-.92-.59-1.43-.59-.52 0-1.04.2-1.43.59L10.3 9.45l-7.72 7.72c-.78.78-.78 2.05 0 2.83L4 21.41c.39.39.9.59 1.41.59.51 0 1.02-.2 1.41-.59l7.78-7.78 2.81-2.81c.8-.78.8-2.07 0-2.86zM5.41 20L4 18.59l7.72-7.72 1.47 1.35L5.41 20z\"/>\n",
              "  </svg>\n",
              "      </button>\n",
              "      \n",
              "  <style>\n",
              "    .colab-df-container {\n",
              "      display:flex;\n",
              "      flex-wrap:wrap;\n",
              "      gap: 12px;\n",
              "    }\n",
              "\n",
              "    .colab-df-convert {\n",
              "      background-color: #E8F0FE;\n",
              "      border: none;\n",
              "      border-radius: 50%;\n",
              "      cursor: pointer;\n",
              "      display: none;\n",
              "      fill: #1967D2;\n",
              "      height: 32px;\n",
              "      padding: 0 0 0 0;\n",
              "      width: 32px;\n",
              "    }\n",
              "\n",
              "    .colab-df-convert:hover {\n",
              "      background-color: #E2EBFA;\n",
              "      box-shadow: 0px 1px 2px rgba(60, 64, 67, 0.3), 0px 1px 3px 1px rgba(60, 64, 67, 0.15);\n",
              "      fill: #174EA6;\n",
              "    }\n",
              "\n",
              "    [theme=dark] .colab-df-convert {\n",
              "      background-color: #3B4455;\n",
              "      fill: #D2E3FC;\n",
              "    }\n",
              "\n",
              "    [theme=dark] .colab-df-convert:hover {\n",
              "      background-color: #434B5C;\n",
              "      box-shadow: 0px 1px 3px 1px rgba(0, 0, 0, 0.15);\n",
              "      filter: drop-shadow(0px 1px 2px rgba(0, 0, 0, 0.3));\n",
              "      fill: #FFFFFF;\n",
              "    }\n",
              "  </style>\n",
              "\n",
              "      <script>\n",
              "        const buttonEl =\n",
              "          document.querySelector('#df-ab7b7408-3298-4a12-90ef-ba365770dc2a button.colab-df-convert');\n",
              "        buttonEl.style.display =\n",
              "          google.colab.kernel.accessAllowed ? 'block' : 'none';\n",
              "\n",
              "        async function convertToInteractive(key) {\n",
              "          const element = document.querySelector('#df-ab7b7408-3298-4a12-90ef-ba365770dc2a');\n",
              "          const dataTable =\n",
              "            await google.colab.kernel.invokeFunction('convertToInteractive',\n",
              "                                                     [key], {});\n",
              "          if (!dataTable) return;\n",
              "\n",
              "          const docLinkHtml = 'Like what you see? Visit the ' +\n",
              "            '<a target=\"_blank\" href=https://colab.research.google.com/notebooks/data_table.ipynb>data table notebook</a>'\n",
              "            + ' to learn more about interactive tables.';\n",
              "          element.innerHTML = '';\n",
              "          dataTable['output_type'] = 'display_data';\n",
              "          await google.colab.output.renderOutput(dataTable, element);\n",
              "          const docLink = document.createElement('div');\n",
              "          docLink.innerHTML = docLinkHtml;\n",
              "          element.appendChild(docLink);\n",
              "        }\n",
              "      </script>\n",
              "    </div>\n",
              "  </div>\n",
              "  "
            ],
            "text/plain": [
              "                     Appliances  lights         T1       RH_1         T2  \\\n",
              "date                                                                       \n",
              "2016-01-11 17:00:00          60      30  19.890000  47.596667  19.200000   \n",
              "2016-01-11 17:10:00          60      30  19.890000  46.693333  19.200000   \n",
              "2016-01-11 17:20:00          50      30  19.890000  46.300000  19.200000   \n",
              "2016-01-11 17:30:00          50      40  19.890000  46.066667  19.200000   \n",
              "2016-01-11 17:40:00          60      40  19.890000  46.333333  19.200000   \n",
              "...                         ...     ...        ...        ...        ...   \n",
              "2016-05-27 17:20:00         100       0  25.566667  46.560000  25.890000   \n",
              "2016-05-27 17:30:00          90       0  25.500000  46.500000  25.754000   \n",
              "2016-05-27 17:40:00         270      10  25.500000  46.596667  25.628571   \n",
              "2016-05-27 17:50:00         420      10  25.500000  46.990000  25.414000   \n",
              "2016-05-27 18:00:00         430      10  25.500000  46.600000  25.264286   \n",
              "\n",
              "                          RH_2         T3       RH_3         T4       RH_4  \\\n",
              "date                                                                         \n",
              "2016-01-11 17:00:00  44.790000  19.790000  44.730000  19.000000  45.566667   \n",
              "2016-01-11 17:10:00  44.722500  19.790000  44.790000  19.000000  45.992500   \n",
              "2016-01-11 17:20:00  44.626667  19.790000  44.933333  18.926667  45.890000   \n",
              "2016-01-11 17:30:00  44.590000  19.790000  45.000000  18.890000  45.723333   \n",
              "2016-01-11 17:40:00  44.530000  19.790000  45.000000  18.890000  45.530000   \n",
              "...                        ...        ...        ...        ...        ...   \n",
              "2016-05-27 17:20:00  42.025714  27.200000  41.163333  24.700000  45.590000   \n",
              "2016-05-27 17:30:00  42.080000  27.133333  41.223333  24.700000  45.590000   \n",
              "2016-05-27 17:40:00  42.768571  27.050000  41.690000  24.700000  45.730000   \n",
              "2016-05-27 17:50:00  43.036000  26.890000  41.290000  24.700000  45.790000   \n",
              "2016-05-27 18:00:00  42.971429  26.823333  41.156667  24.700000  45.963333   \n",
              "\n",
              "                     ...  Windspeed  Visibility  Tdewpoint        rv1  \\\n",
              "date                 ...                                                \n",
              "2016-01-11 17:00:00  ...   7.000000   63.000000   5.300000  13.275433   \n",
              "2016-01-11 17:10:00  ...   6.666667   59.166667   5.200000  18.606195   \n",
              "2016-01-11 17:20:00  ...   6.333333   55.333333   5.100000  28.642668   \n",
              "2016-01-11 17:30:00  ...   6.000000   51.500000   5.000000  45.410389   \n",
              "2016-01-11 17:40:00  ...   5.666667   47.666667   4.900000  10.084097   \n",
              "...                  ...        ...         ...        ...        ...   \n",
              "2016-05-27 17:20:00  ...   3.333333   23.666667  13.333333  43.096812   \n",
              "2016-05-27 17:30:00  ...   3.500000   24.500000  13.300000  49.282940   \n",
              "2016-05-27 17:40:00  ...   3.666667   25.333333  13.266667  29.199117   \n",
              "2016-05-27 17:50:00  ...   3.833333   26.166667  13.233333   6.322784   \n",
              "2016-05-27 18:00:00  ...   4.000000   27.000000  13.200000  34.118851   \n",
              "\n",
              "                           rv2  minute  hour  day_of_week  day_of_month  month  \n",
              "date                                                                            \n",
              "2016-01-11 17:00:00  13.275433       0    17            0            11      1  \n",
              "2016-01-11 17:10:00  18.606195      10    17            0            11      1  \n",
              "2016-01-11 17:20:00  28.642668      20    17            0            11      1  \n",
              "2016-01-11 17:30:00  45.410389      30    17            0            11      1  \n",
              "2016-01-11 17:40:00  10.084097      40    17            0            11      1  \n",
              "...                        ...     ...   ...          ...           ...    ...  \n",
              "2016-05-27 17:20:00  43.096812      20    17            4            27      5  \n",
              "2016-05-27 17:30:00  49.282940      30    17            4            27      5  \n",
              "2016-05-27 17:40:00  29.199117      40    17            4            27      5  \n",
              "2016-05-27 17:50:00   6.322784      50    17            4            27      5  \n",
              "2016-05-27 18:00:00  34.118851       0    18            4            27      5  \n",
              "\n",
              "[19735 rows x 33 columns]"
            ]
          },
          "execution_count": 11,
          "metadata": {},
          "output_type": "execute_result"
        }
      ],
      "source": [
        "data_latih['minute'] = data_latih.index.minute\n",
        "data_latih['hour'] = data_latih.index.hour\n",
        "data_latih['day_of_week'] = data_latih.index.dayofweek\n",
        "data_latih['day_of_month'] = data_latih.index.day\n",
        "data_latih['month'] = data_latih.index.month\n",
        "data_latih"
      ]
    },
    {
      "cell_type": "markdown",
      "metadata": {
        "id": "rkeo5BMHAXG5"
      },
      "source": [
        "### Setup Directory & Plotting Data"
      ]
    },
    {
      "cell_type": "code",
      "execution_count": 12,
      "metadata": {
        "colab": {
          "base_uri": "https://localhost:8080/"
        },
        "id": "Foz_fUc61_QI",
        "outputId": "f5210eab-dbcc-453e-c4e1-0dd3256bcd75"
      },
      "outputs": [
        {
          "data": {
            "text/plain": [
              "Appliances      0\n",
              "lights          0\n",
              "T1              0\n",
              "RH_1            0\n",
              "T2              0\n",
              "RH_2            0\n",
              "T3              0\n",
              "RH_3            0\n",
              "T4              0\n",
              "RH_4            0\n",
              "T5              0\n",
              "RH_5            0\n",
              "T6              0\n",
              "RH_6            0\n",
              "T7              0\n",
              "RH_7            0\n",
              "T8              0\n",
              "RH_8            0\n",
              "T9              0\n",
              "RH_9            0\n",
              "T_out           0\n",
              "Press_mm_hg     0\n",
              "RH_out          0\n",
              "Windspeed       0\n",
              "Visibility      0\n",
              "Tdewpoint       0\n",
              "rv1             0\n",
              "rv2             0\n",
              "minute          0\n",
              "hour            0\n",
              "day_of_week     0\n",
              "day_of_month    0\n",
              "month           0\n",
              "dtype: int64"
            ]
          },
          "execution_count": 12,
          "metadata": {},
          "output_type": "execute_result"
        }
      ],
      "source": [
        "data_latih.isnull().sum()"
      ]
    },
    {
      "cell_type": "code",
      "execution_count": 13,
      "metadata": {
        "colab": {
          "base_uri": "https://localhost:8080/",
          "height": 746
        },
        "id": "Bxf4-c7oYBxL",
        "outputId": "3b7c1fa6-c341-48a8-fa57-411f2df09e07"
      },
      "outputs": [
        {
          "data": {
            "text/plain": [
              "<seaborn.axisgrid.FacetGrid at 0x7fda6fdf2b90>"
            ]
          },
          "execution_count": 13,
          "metadata": {},
          "output_type": "execute_result"
        },
        {
          "data": {
            "image/png": "[encoded data removed]",
            "text/plain": [
              "<Figure size 720x720 with 1 Axes>"
            ]
          },
          "metadata": {
            "needs_background": "light"
          },
          "output_type": "display_data"
        }
      ],
      "source": [
        "sns.relplot(data=data_latih, x=\"date\", y=\"Appliances\", kind=\"line\", height=10)"
      ]
    },
    {
      "cell_type": "code",
      "execution_count": 14,
      "metadata": {
        "id": "SUpgf72E726E"
      },
      "outputs": [],
      "source": [
        "train_size = int(len(data_latih) * 0.8)\n",
        "train, test = data_latih.iloc[0:train_size], data_latih.iloc[train_size:len(data_latih)]"
      ]
    },
    {
      "cell_type": "markdown",
      "metadata": {
        "id": "coh7dTeJAd0i"
      },
      "source": [
        "### Pre-Processing"
      ]
    },
    {
      "cell_type": "code",
      "execution_count": 15,
      "metadata": {
        "colab": {
          "base_uri": "https://localhost:8080/"
        },
        "id": "2ZWsSE1r8lFU",
        "outputId": "6127ba10-8956-4f6f-e44b-3abc0b7d702f"
      },
      "outputs": [
        {
          "name": "stderr",
          "output_type": "stream",
          "text": [
            "/usr/local/lib/python3.7/dist-packages/ipykernel_launcher.py:6: SettingWithCopyWarning: \n",
            "A value is trying to be set on a copy of a slice from a DataFrame.\n",
            "Try using .loc[row_indexer,col_indexer] = value instead\n",
            "\n",
            "See the caveats in the documentation: https://pandas.pydata.org/pandas-docs/stable/user_guide/indexing.html#returning-a-view-versus-a-copy\n",
            "  \n",
            "/usr/local/lib/python3.7/dist-packages/ipykernel_launcher.py:8: SettingWithCopyWarning: \n",
            "A value is trying to be set on a copy of a slice from a DataFrame.\n",
            "Try using .loc[row_indexer,col_indexer] = value instead\n",
            "\n",
            "See the caveats in the documentation: https://pandas.pydata.org/pandas-docs/stable/user_guide/indexing.html#returning-a-view-versus-a-copy\n",
            "  \n"
          ]
        }
      ],
      "source": [
        "from sklearn.preprocessing import RobustScaler\n",
        "\n",
        "transformer = RobustScaler()\n",
        "apli_transformer = transformer.fit(train[['Appliances']])\n",
        "\n",
        "train['Appliances'] = apli_transformer.transform(train[['Appliances']])\n",
        "\n",
        "test['Appliances'] = apli_transformer.transform(test[['Appliances']])"
      ]
    },
    {
      "cell_type": "code",
      "execution_count": 16,
      "metadata": {
        "colab": {
          "base_uri": "https://localhost:8080/",
          "height": 746
        },
        "id": "rKtvwXu22fOo",
        "outputId": "92e896b5-e058-4aac-bdc4-25af19091eb1"
      },
      "outputs": [
        {
          "data": {
            "text/plain": [
              "<seaborn.axisgrid.FacetGrid at 0x7fda6eaf5810>"
            ]
          },
          "execution_count": 16,
          "metadata": {},
          "output_type": "execute_result"
        },
        {
          "data": {
            "image/png": "[encoded data removed]",
            "text/plain": [
              "<Figure size 720x720 with 1 Axes>"
            ]
          },
          "metadata": {
            "needs_background": "light"
          },
          "output_type": "display_data"
        }
      ],
      "source": [
        "sns.relplot(data=train, x=\"date\", y=\"Appliances\", kind=\"line\", height=10)"
      ]
    },
    {
      "cell_type": "code",
      "execution_count": 17,
      "metadata": {
        "colab": {
          "base_uri": "https://localhost:8080/"
        },
        "id": "2FxLsEVT23iB",
        "outputId": "d26c2bf4-d9dc-490a-d2e9-22a53817bffa"
      },
      "outputs": [
        {
          "data": {
            "text/plain": [
              "2.14"
            ]
          },
          "execution_count": 17,
          "metadata": {},
          "output_type": "execute_result"
        }
      ],
      "source": [
        "minMae_Train = (train['Appliances'].max() - train['Appliances'].min()) * 10/100\n",
        "minMae_Train"
      ]
    },
    {
      "cell_type": "code",
      "execution_count": 18,
      "metadata": {
        "colab": {
          "base_uri": "https://localhost:8080/",
          "height": 746
        },
        "id": "xglfUIl12q7d",
        "outputId": "338fd330-7085-4874-ca9e-02d45e2acd2f"
      },
      "outputs": [
        {
          "data": {
            "text/plain": [
              "<seaborn.axisgrid.FacetGrid at 0x7fda6eba8190>"
            ]
          },
          "execution_count": 18,
          "metadata": {},
          "output_type": "execute_result"
        },
        {
          "data": {
            "image/png": "[encoded data removed]",
            "text/plain": [
              "<Figure size 720x720 with 1 Axes>"
            ]
          },
          "metadata": {
            "needs_background": "light"
          },
          "output_type": "display_data"
        }
      ],
      "source": [
        "sns.relplot(data=test, x=\"date\", y=\"Appliances\", kind=\"line\", height=10)"
      ]
    },
    {
      "cell_type": "code",
      "execution_count": 19,
      "metadata": {
        "colab": {
          "base_uri": "https://localhost:8080/"
        },
        "id": "jKoYtRgl23iB",
        "outputId": "e5a883cc-d2ae-478a-9037-da6060f4a5f8"
      },
      "outputs": [
        {
          "data": {
            "text/plain": [
              "1.66"
            ]
          },
          "execution_count": 19,
          "metadata": {},
          "output_type": "execute_result"
        }
      ],
      "source": [
        "minMae_Test = (test['Appliances'].max() - test['Appliances'].min()) * 10/100\n",
        "minMae_Test"
      ]
    },
    {
      "cell_type": "code",
      "execution_count": 20,
      "metadata": {
        "colab": {
          "base_uri": "https://localhost:8080/"
        },
        "id": "hurUomOEBiXl",
        "outputId": "87469116-c1b7-4c2b-898a-d7dc4cb53946"
      },
      "outputs": [
        {
          "name": "stderr",
          "output_type": "stream",
          "text": [
            "/usr/local/lib/python3.7/dist-packages/pandas/core/indexing.py:1835: SettingWithCopyWarning: \n",
            "A value is trying to be set on a copy of a slice from a DataFrame.\n",
            "Try using .loc[row_indexer,col_indexer] = value instead\n",
            "\n",
            "See the caveats in the documentation: https://pandas.pydata.org/pandas-docs/stable/user_guide/indexing.html#returning-a-view-versus-a-copy\n",
            "  self._setitem_single_column(loc, value[:, i].tolist(), pi)\n",
            "/usr/local/lib/python3.7/dist-packages/pandas/core/indexing.py:1835: SettingWithCopyWarning: \n",
            "A value is trying to be set on a copy of a slice from a DataFrame.\n",
            "Try using .loc[row_indexer,col_indexer] = value instead\n",
            "\n",
            "See the caveats in the documentation: https://pandas.pydata.org/pandas-docs/stable/user_guide/indexing.html#returning-a-view-versus-a-copy\n",
            "  self._setitem_single_column(loc, value[:, i].tolist(), pi)\n"
          ]
        }
      ],
      "source": [
        "scale_col = ['T1',\t'RH_1',\t'T2',\t'RH_2',\t'T3', 'RH_3',\t'T4',\t'RH_4', 'T5',\t'RH_5',\t'T6',\t'RH_6', 'T7',\t'RH_7',\t'T8',\t'RH_8',\t'T9',\t'RH_9',\t'T_out',\t'Press_mm_hg',\t'RH_out',\t'Windspeed',\t'Visibility',\t'Tdewpoint',\t'rv1',\t'rv2']\n",
        "scale_transformer = transformer.fit(train[scale_col].to_numpy())\n",
        "\n",
        "train.loc[:, scale_col] = scale_transformer.transform(\n",
        "    train[scale_col].to_numpy()\n",
        ")\n",
        "\n",
        "test.loc[:, scale_col] = scale_transformer.transform(\n",
        "    test[scale_col].to_numpy()\n",
        ")"
      ]
    },
    {
      "cell_type": "code",
      "execution_count": 22,
      "metadata": {
        "colab": {
          "base_uri": "https://localhost:8080/"
        },
        "id": "0ICzRvalBDhK",
        "outputId": "1fcba781-1338-4486-c8e9-69dd16828e60"
      },
      "outputs": [
        {
          "name": "stdout",
          "output_type": "stream",
          "text": [
            "(15778, 10, 33) (15778,)\n"
          ]
        }
      ],
      "source": [
        "def split_data(x, y, time_steps=1):\n",
        "    xs, ys = [], []\n",
        "    for i in range(len(x) - time_steps):\n",
        "        v = x.iloc[i:(i + time_steps)].values\n",
        "        xs.append(v)\n",
        "        ys.append(y.iloc[i + time_steps])\n",
        "    return nmp.array(xs), nmp.array(ys)\n",
        "\n",
        "x_train, y_train = split_data(train, train.Appliances, 10)\n",
        "x_test, y_test = split_data(test, test.Appliances, 10)\n",
        "\n",
        "print(x_train.shape, y_train.shape)"
      ]
    },
    {
      "cell_type": "markdown",
      "metadata": {
        "id": "zWatndtGAraD"
      },
      "source": [
        "### Creating Machine Learning Architecture"
      ]
    },
    {
      "cell_type": "code",
      "execution_count": 23,
      "metadata": {
        "id": "fUBzemIhBE_h"
      },
      "outputs": [],
      "source": [
        "model = tfl.keras.models.Sequential([\n",
        "    tfl.keras.layers.Bidirectional(tfl.keras.layers.LSTM(128,return_sequences=True, input_shape=(x_train.shape[1], x_train.shape[-1]))),\n",
        "    tfl.keras.layers.LSTM(128, return_sequences=False),\n",
        "    tfl.keras.layers.Dropout(rate=0.2),\n",
        "    tfl.keras.layers.Dense(60, activation=\"relu\"),\n",
        "    tfl.keras.layers.Dense(60, activation=\"relu\"),\n",
        "    tfl.keras.layers.Dense(1)\n",
        "])"
      ]
    },
    {
      "cell_type": "markdown",
      "metadata": {
        "id": "6hKz--eBAwah"
      },
      "source": [
        "### Compile & Training"
      ]
    },
    {
      "cell_type": "code",
      "execution_count": 24,
      "metadata": {
        "id": "GFiG0gm1hGXy"
      },
      "outputs": [],
      "source": [
        "optimizer = tfl.keras.optimizers.SGD(learning_rate=0.001, momentum=0.99)\n",
        "model.compile(loss=tfl.keras.losses.Huber(),\n",
        "              optimizer=optimizer,\n",
        "              metrics=[\"mae\"])"
      ]
    },
    {
      "cell_type": "code",
      "execution_count": 25,
      "metadata": {
        "colab": {
          "base_uri": "https://localhost:8080/"
        },
        "id": "d2p7wyu3yaGi",
        "outputId": "bd99a351-8bc6-452c-b346-c0fafffef4a5"
      },
      "outputs": [
        {
          "data": {
            "text/plain": [
              "2.14"
            ]
          },
          "execution_count": 25,
          "metadata": {},
          "output_type": "execute_result"
        }
      ],
      "source": [
        "minMae_Train = (train['Appliances'].max() - train['Appliances'].min()) * 10/100\n",
        "minMae_Train"
      ]
    },
    {
      "cell_type": "code",
      "execution_count": 26,
      "metadata": {
        "colab": {
          "base_uri": "https://localhost:8080/"
        },
        "id": "LGxtei4Lz8S3",
        "outputId": "f204db31-f21e-497e-eb63-04d7a0dfc04e"
      },
      "outputs": [
        {
          "data": {
            "text/plain": [
              "1.66"
            ]
          },
          "execution_count": 26,
          "metadata": {},
          "output_type": "execute_result"
        }
      ],
      "source": [
        "minMae_Test = (test['Appliances'].max() - test['Appliances'].min()) * 10/100\n",
        "minMae_Test"
      ]
    },
    {
      "cell_type": "code",
      "execution_count": 28,
      "metadata": {
        "id": "ZCYHV2Tl9e5K"
      },
      "outputs": [],
      "source": [
        "class my_allback(tfl.keras.callbacks.Callback):\n",
        "    def on_epoch_end(self, epoch, logs={}):\n",
        "        if(logs.get('mae') < 2.14 and logs.get('val_mae') < 1.66):\n",
        "            print(\"MAE Below 10% of Data Scale\")\n",
        "\n",
        "    def on_train_end(self, epoch, logs={}):\n",
        "        print('Done')\n",
        "\n",
        "callbacks = my_allback()"
      ]
    },
    {
      "cell_type": "code",
      "execution_count": 29,
      "metadata": {
        "colab": {
          "base_uri": "https://localhost:8080/"
        },
        "id": "2rhJL5cCA84j",
        "outputId": "3690ea34-1f25-442c-b9bd-2b2ec20ed07b"
      },
      "outputs": [
        {
          "name": "stdout",
          "output_type": "stream",
          "text": [
            "Epoch 1/10\n",
            "395/395 [==============================] - ETA: 0s - loss: 0.7121 - mae: 1.0273MAE Below 10% of Data Scale\n",
            "395/395 [==============================] - 28s 53ms/step - loss: 0.7121 - mae: 1.0273 - val_loss: 0.5890 - val_mae: 0.9052\n",
            "Epoch 2/10\n",
            "395/395 [==============================] - ETA: 0s - loss: 0.6817 - mae: 0.9878MAE Below 10% of Data Scale\n",
            "395/395 [==============================] - 21s 52ms/step - loss: 0.6817 - mae: 0.9878 - val_loss: 0.5835 - val_mae: 0.8992\n",
            "Epoch 3/10\n",
            "394/395 [============================>.] - ETA: 0s - loss: 0.6166 - mae: 0.9252MAE Below 10% of Data Scale\n",
            "395/395 [==============================] - 19s 49ms/step - loss: 0.6167 - mae: 0.9254 - val_loss: 0.6672 - val_mae: 1.0956\n",
            "Epoch 4/10\n",
            "394/395 [============================>.] - ETA: 0s - loss: 0.6310 - mae: 0.9410MAE Below 10% of Data Scale\n",
            "395/395 [==============================] - 19s 49ms/step - loss: 0.6311 - mae: 0.9411 - val_loss: 0.5992 - val_mae: 0.8608\n",
            "Epoch 5/10\n",
            "395/395 [==============================] - ETA: 0s - loss: 0.7461 - mae: 1.0924MAE Below 10% of Data Scale\n",
            "395/395 [==============================] - 21s 53ms/step - loss: 0.7461 - mae: 1.0924 - val_loss: 0.6269 - val_mae: 0.9867\n",
            "Epoch 6/10\n",
            "394/395 [============================>.] - ETA: 0s - loss: 0.7318 - mae: 1.0608MAE Below 10% of Data Scale\n",
            "395/395 [==============================] - 26s 66ms/step - loss: 0.7317 - mae: 1.0606 - val_loss: 0.6168 - val_mae: 0.9111\n",
            "Epoch 7/10\n",
            "395/395 [==============================] - ETA: 0s - loss: 0.6939 - mae: 1.0019MAE Below 10% of Data Scale\n",
            "395/395 [==============================] - 20s 50ms/step - loss: 0.6939 - mae: 1.0019 - val_loss: 0.5926 - val_mae: 0.8848\n",
            "Epoch 8/10\n",
            "394/395 [============================>.] - ETA: 0s - loss: 0.6715 - mae: 0.9879MAE Below 10% of Data Scale\n",
            "395/395 [==============================] - 20s 50ms/step - loss: 0.6714 - mae: 0.9879 - val_loss: 0.5744 - val_mae: 0.8580\n",
            "Epoch 9/10\n",
            "395/395 [==============================] - ETA: 0s - loss: 0.6603 - mae: 0.9740MAE Below 10% of Data Scale\n",
            "395/395 [==============================] - 20s 50ms/step - loss: 0.6603 - mae: 0.9740 - val_loss: 0.5228 - val_mae: 0.8911\n",
            "Epoch 10/10\n",
            "394/395 [============================>.] - ETA: 0s - loss: 0.5241 - mae: 0.8255MAE Below 10% of Data Scale\n",
            "395/395 [==============================] - 20s 50ms/step - loss: 0.5247 - mae: 0.8260 - val_loss: 0.5394 - val_mae: 0.8384\n",
            "Done\n"
          ]
        }
      ],
      "source": [
        "hasil = model.fit(x_train, y_train, epochs=10, batch_size=32,validation_data=[x_test,y_test] ,validation_split=0.2, callbacks = callbacks, shuffle=False)"
      ]
    },
    {
      "cell_type": "markdown",
      "metadata": {
        "id": "C-rgPbDTA0BR"
      },
      "source": [
        "### Plotting"
      ]
    },
    {
      "cell_type": "code",
      "execution_count": 30,
      "metadata": {
        "colab": {
          "base_uri": "https://localhost:8080/",
          "height": 295
        },
        "id": "UZ2_juEC9tib",
        "outputId": "152cd01c-94d4-4a89-cd89-a1b1016a1318"
      },
      "outputs": [
        {
          "data": {
            "image/png": "[encoded data removed]",
            "text/plain": [
              "<Figure size 432x288 with 1 Axes>"
            ]
          },
          "metadata": {
            "needs_background": "light"
          },
          "output_type": "display_data"
        }
      ],
      "source": [
        "plt.plot(hasil.history['loss'])\n",
        "plt.plot(hasil.history['val_loss'])\n",
        "plt.title('Loss Plot')\n",
        "plt.ylabel('Loss')\n",
        "plt.xlabel('epoch')\n",
        "plt.legend(['loss', 'val_loss'], loc='upper right')\n",
        "plt.show()"
      ]
    },
    {
      "cell_type": "code",
      "execution_count": 31,
      "metadata": {
        "colab": {
          "base_uri": "https://localhost:8080/",
          "height": 295
        },
        "id": "e17WrDbAOmq3",
        "outputId": "7af0f358-bd41-4725-b1ab-f3ed0dec9d5b"
      },
      "outputs": [
        {
          "data": {
            "image/png": "[encoded data removed]",
            "text/plain": [
              "<Figure size 432x288 with 1 Axes>"
            ]
          },
          "metadata": {
            "needs_background": "light"
          },
          "output_type": "display_data"
        }
      ],
      "source": [
        "plt.plot(hasil.history['mae'])\n",
        "plt.plot(hasil.history['val_mae'])\n",
        "plt.title('MAE Plot')\n",
        "plt.ylabel('MAE')\n",
        "plt.xlabel('epoch')\n",
        "plt.legend(['mae', 'val_mae'], loc='upper right')\n",
        "plt.show()"
      ]
    },
    {
      "cell_type": "markdown",
      "metadata": {
        "id": "OcORxhdH0azi"
      },
      "source": [
        "### Testing & Prediction & Evaluation"
      ]
    },
    {
      "cell_type": "code",
      "execution_count": 42,
      "metadata": {
        "colab": {
          "base_uri": "https://localhost:8080/"
        },
        "id": "kmwOgc_50dnb",
        "outputId": "0880f14a-4c96-47ad-f4bd-51e3de2e457e"
      },
      "outputs": [
        {
          "name": "stdout",
          "output_type": "stream",
          "text": [
            "[[7.7238436]]\n",
            "7.4\n"
          ]
        }
      ],
      "source": [
        "def split_data_prediction(x, y, time_steps=1):\n",
        "    xs, ys = [], []\n",
        "    for i in range(len(x) - time_steps):\n",
        "        v = x[i:(i + time_steps)]\n",
        "        xs.append(v)\n",
        "        ys.append(y[i + time_steps])\n",
        "    return nmp.array(xs), nmp.array(ys)\n",
        "\n",
        "x_test_final, y_test_final = split_data_prediction(x_test, y_test, 1)\n",
        "prediction = model.predict(x_test_final[1])\n",
        "print(prediction)\n",
        "print(y_test_final[1])"
      ]
    },
    {
      "cell_type": "markdown",
      "metadata": {
        "id": "PAwUPGZI22qZ"
      },
      "source": [
        "Actual Value = 7.4\n",
        "Predicted Value = 7.72"
      ]
    }
  ],
  "metadata": {
    "accelerator": "TPU",
    "colab": {
      "provenance": []
    },
    "kernelspec": {
      "display_name": "Python 3",
      "name": "python3"
    },
    "language_info": {
      "name": "python"
    }
  },
  "nbformat": 4,
  "nbformat_minor": 0
}
